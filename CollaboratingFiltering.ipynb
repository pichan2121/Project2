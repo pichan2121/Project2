{
 "cells": [
  {
   "cell_type": "markdown",
   "id": "f855de49",
   "metadata": {},
   "source": [
    "## A. Xử lý Dữ liệu"
   ]
  },
  {
   "cell_type": "code",
   "execution_count": 3,
   "id": "82a727fb",
   "metadata": {},
   "outputs": [],
   "source": [
    "# import thư viện\n",
    "import pandas as pd\n",
    "import numpy as np\n",
    "import matplotlib.pyplot as plt\n",
    "%matplotlib inline\n",
    "import seaborn as sns\n",
    "import ast\n",
    "from sklearn.feature_extraction.text import CountVectorizer\n",
    "import nltk\n",
    "from nltk.stem.porter import PorterStemmer\n",
    "from sklearn.metrics.pairwise import cosine_similarity\n",
    "import pickle \n",
    "import warnings"
   ]
  },
  {
   "cell_type": "code",
   "execution_count": 7,
   "id": "348cebd7",
   "metadata": {},
   "outputs": [
    {
     "data": {
      "text/html": [
       "<div>\n",
       "<style scoped>\n",
       "    .dataframe tbody tr th:only-of-type {\n",
       "        vertical-align: middle;\n",
       "    }\n",
       "\n",
       "    .dataframe tbody tr th {\n",
       "        vertical-align: top;\n",
       "    }\n",
       "\n",
       "    .dataframe thead th {\n",
       "        text-align: right;\n",
       "    }\n",
       "</style>\n",
       "<table border=\"1\" class=\"dataframe\">\n",
       "  <thead>\n",
       "    <tr style=\"text-align: right;\">\n",
       "      <th></th>\n",
       "      <th>userId</th>\n",
       "      <th>productId</th>\n",
       "      <th>Rating</th>\n",
       "    </tr>\n",
       "  </thead>\n",
       "  <tbody>\n",
       "    <tr>\n",
       "      <th>0</th>\n",
       "      <td>709310</td>\n",
       "      <td>10001012</td>\n",
       "      <td>3</td>\n",
       "    </tr>\n",
       "    <tr>\n",
       "      <th>1</th>\n",
       "      <td>10701688</td>\n",
       "      <td>10001012</td>\n",
       "      <td>5</td>\n",
       "    </tr>\n",
       "    <tr>\n",
       "      <th>2</th>\n",
       "      <td>11763074</td>\n",
       "      <td>10001012</td>\n",
       "      <td>5</td>\n",
       "    </tr>\n",
       "    <tr>\n",
       "      <th>3</th>\n",
       "      <td>9909549</td>\n",
       "      <td>10001012</td>\n",
       "      <td>5</td>\n",
       "    </tr>\n",
       "    <tr>\n",
       "      <th>4</th>\n",
       "      <td>1827148</td>\n",
       "      <td>10001012</td>\n",
       "      <td>5</td>\n",
       "    </tr>\n",
       "  </tbody>\n",
       "</table>\n",
       "</div>"
      ],
      "text/plain": [
       "     userId  productId  Rating\n",
       "0    709310   10001012       3\n",
       "1  10701688   10001012       5\n",
       "2  11763074   10001012       5\n",
       "3   9909549   10001012       5\n",
       "4   1827148   10001012       5"
      ]
     },
     "execution_count": 7,
     "metadata": {},
     "output_type": "execute_result"
    }
   ],
   "source": [
    "df2=pd.read_csv('reviewdata.csv')\n",
    "df2=df2[['userId','productId','Rating']]\n",
    "df2.head(5)"
   ]
  },
  {
   "cell_type": "code",
   "execution_count": 5,
   "id": "26419db4",
   "metadata": {},
   "outputs": [
    {
     "data": {
      "text/html": [
       "<div>\n",
       "<style scoped>\n",
       "    .dataframe tbody tr th:only-of-type {\n",
       "        vertical-align: middle;\n",
       "    }\n",
       "\n",
       "    .dataframe tbody tr th {\n",
       "        vertical-align: top;\n",
       "    }\n",
       "\n",
       "    .dataframe thead th {\n",
       "        text-align: right;\n",
       "    }\n",
       "</style>\n",
       "<table border=\"1\" class=\"dataframe\">\n",
       "  <thead>\n",
       "    <tr style=\"text-align: right;\">\n",
       "      <th></th>\n",
       "      <th>userId</th>\n",
       "      <th>productId</th>\n",
       "      <th>Rating</th>\n",
       "    </tr>\n",
       "  </thead>\n",
       "  <tbody>\n",
       "    <tr>\n",
       "      <th>0</th>\n",
       "      <td>709310</td>\n",
       "      <td>10001012</td>\n",
       "      <td>3</td>\n",
       "    </tr>\n",
       "    <tr>\n",
       "      <th>1</th>\n",
       "      <td>10701688</td>\n",
       "      <td>10001012</td>\n",
       "      <td>5</td>\n",
       "    </tr>\n",
       "    <tr>\n",
       "      <th>2</th>\n",
       "      <td>11763074</td>\n",
       "      <td>10001012</td>\n",
       "      <td>5</td>\n",
       "    </tr>\n",
       "    <tr>\n",
       "      <th>3</th>\n",
       "      <td>9909549</td>\n",
       "      <td>10001012</td>\n",
       "      <td>5</td>\n",
       "    </tr>\n",
       "    <tr>\n",
       "      <th>4</th>\n",
       "      <td>1827148</td>\n",
       "      <td>10001012</td>\n",
       "      <td>5</td>\n",
       "    </tr>\n",
       "  </tbody>\n",
       "</table>\n",
       "</div>"
      ],
      "text/plain": [
       "     userId  productId  Rating\n",
       "0    709310   10001012       3\n",
       "1  10701688   10001012       5\n",
       "2  11763074   10001012       5\n",
       "3   9909549   10001012       5\n",
       "4   1827148   10001012       5"
      ]
     },
     "execution_count": 5,
     "metadata": {},
     "output_type": "execute_result"
    }
   ],
   "source": [
    "data2=df2.rename(columns={\"customer_id\": \"userId\", \"product_id\": \"productId\",\"rating\": \"Rating\"})\n",
    "data2.head()"
   ]
  },
  {
   "cell_type": "code",
   "execution_count": 142,
   "id": "709190f5",
   "metadata": {},
   "outputs": [],
   "source": [
    "electronics_groupby_users_Ratings = data2.groupby('userId')['Rating']\n",
    "electronics_groupby_users_Ratings = pd.DataFrame(electronics_groupby_users_Ratings.count())"
   ]
  },
  {
   "cell_type": "code",
   "execution_count": 195,
   "id": "2b967b15",
   "metadata": {},
   "outputs": [],
   "source": [
    "user_list_min50_ratings = electronics_groupby_users_Ratings[electronics_groupby_users_Ratings['Rating'] >= 2].index\n",
    "electronics =  data2[data2['userId'].isin(user_list_min50_ratings)]"
   ]
  },
  {
   "cell_type": "code",
   "execution_count": 196,
   "id": "8bb12ac0",
   "metadata": {},
   "outputs": [
    {
     "data": {
      "text/plain": [
       "60881"
      ]
     },
     "execution_count": 196,
     "metadata": {},
     "output_type": "execute_result"
    }
   ],
   "source": [
    "len(user_list_min50_ratings)"
   ]
  },
  {
   "cell_type": "code",
   "execution_count": 197,
   "id": "89403dcc",
   "metadata": {},
   "outputs": [
    {
     "name": "stdout",
     "output_type": "stream",
     "text": [
      "The total number of rows : 173489\n",
      "The total number of columns : 4\n"
     ]
    }
   ],
   "source": [
    "print('The total number of rows :', electronics.shape[0])\n",
    "print('The total number of columns :', electronics.shape[1])"
   ]
  },
  {
   "cell_type": "code",
   "execution_count": 198,
   "id": "980f0b6d",
   "metadata": {},
   "outputs": [
    {
     "name": "stdout",
     "output_type": "stream",
     "text": [
      "Training set has 138791 rows and 4 columns\n",
      "Testing set has 34698 rows and 4 columns\n"
     ]
    }
   ],
   "source": [
    "from sklearn.model_selection import train_test_split\n",
    "train_data, test_data = train_test_split(electronics, test_size =.20, random_state=10)\n",
    "\n",
    "\n",
    "print(f'Training set has {train_data.shape[0]} rows and {train_data.shape[1]} columns')\n",
    "print(f'Testing set has {test_data.shape[0]} rows and {test_data.shape[1]} columns')"
   ]
  },
  {
   "cell_type": "code",
   "execution_count": 15,
   "id": "d49c783e",
   "metadata": {},
   "outputs": [],
   "source": [
    "import warnings\n",
    "warnings.filterwarnings('ignore')\n",
    "import numpy as np\n",
    "import pandas as pd\n",
    "\n",
    "import matplotlib.pyplot as plt\n",
    "import seaborn as sns\n",
    "sns.set_color_codes()\n",
    "sns.set(style=\"whitegrid\")\n",
    "%matplotlib inline\n",
    "from scipy.stats import zscore\n",
    "from sklearn import metrics\n",
    "from sklearn.model_selection import train_test_split\n",
    "from sklearn.model_selection import KFold\n",
    "from sklearn.model_selection import cross_val_score\n",
    "from sklearn.decomposition import PCA\n",
    "from sklearn.preprocessing import StandardScaler\n",
    "from sklearn.metrics import mean_squared_error\n",
    "from math import sqrt"
   ]
  },
  {
   "cell_type": "markdown",
   "id": "724ac8fc",
   "metadata": {},
   "source": [
    "Popularity Based Recommender Model: Popularity based recommendation system uses the items that are in trend right now. It ranks products based on its popularity i.e. the rating count. If a product is highly rated then it is most likely to be ranked higher and hence will be recommended. As it is based on the products popularity, this can not be personalized and hence same set of products will be recommended for all the users."
   ]
  },
  {
   "cell_type": "code",
   "execution_count": 200,
   "id": "1c0428e5",
   "metadata": {},
   "outputs": [
    {
     "name": "stdout",
     "output_type": "stream",
     "text": [
      "Training set has 121442 rows and 4 columns\n",
      "Testing set has 52047 rows and 4 columns\n"
     ]
    }
   ],
   "source": [
    "train_data, test_data = train_test_split(electronics, test_size =.30, random_state=10)\n",
    "\n",
    "print(f'Training set has {train_data.shape[0]} rows and {train_data.shape[1]} columns')\n",
    "print(f'Testing set has {test_data.shape[0]} rows and {test_data.shape[1]} columns')"
   ]
  },
  {
   "cell_type": "code",
   "execution_count": 210,
   "id": "3741a469",
   "metadata": {},
   "outputs": [],
   "source": [
    "class popularity_based_recommender_model():\n",
    "    def __init__(self, train_data, test_data, user_id, item_id):\n",
    "        self.train_data = train_data\n",
    "        self.test_data = test_data\n",
    "        self.user_id = user_id\n",
    "        self.item_id = item_id\n",
    "        self.popularity_recommendations = None\n",
    "        \n",
    "    #Create the popularity based recommender system model\n",
    "    def fit(self):\n",
    "        #Get a count of user_ids for each unique product as recommendation score\n",
    "        train_data_grouped = train_data.groupby([self.item_id]).agg({self.user_id: 'count'}).reset_index()\n",
    "        train_data_grouped.rename(columns = {'userId': 'score'},inplace=True)\n",
    "    \n",
    "        #Sort the products based upon recommendation score\n",
    "        train_data_sort = train_data_grouped.sort_values(['score', self.item_id], ascending = [0,1])\n",
    "    \n",
    "        #Generate a recommendation rank based upon score\n",
    "        train_data_sort['Rank'] = train_data_sort['score'].rank(ascending=0, method='first')\n",
    "        \n",
    "        #Get the top 10 recommendations\n",
    "        self.popularity_recommendations = train_data_sort.head(20)\n",
    "\n",
    "    #Use the popularity based recommender system model to make recommendations\n",
    "    def recommend(self, user_id, n=5):    \n",
    "        user_recommendations = self.popularity_recommendations\n",
    "        \n",
    "        #Filter products that are not rated by the user\n",
    "        products_already_rated_by_user = self.train_data[self.train_data[self.user_id] == user_id][self.item_id]        \n",
    "        user_recommendations = user_recommendations[~user_recommendations[self.item_id].isin(products_already_rated_by_user)]\n",
    "        \n",
    "        #Add user_id column for which the recommendations are being generated\n",
    "        user_recommendations['user_id'] = user_id\n",
    "    \n",
    "        #Bring user_id column to the front\n",
    "        cols = user_recommendations.columns.tolist()\n",
    "        cols = cols[-1:] + cols[:-1]\n",
    "        user_recommendations = user_recommendations[cols].head(n)     \n",
    "       \n",
    "        return user_recommendations\n",
    "    \n",
    "    \n",
    "    def predict_evaluate(self):        \n",
    "        ratings = pd.DataFrame(self.train_data.groupby(self.item_id)['Rating'].mean())\n",
    "        \n",
    "        pred_ratings = [];            \n",
    "        for data in self.test_data.values:\n",
    "            if(data[1] in (ratings.index)):\n",
    "                pred_ratings.append(ratings.loc[data[1]])\n",
    "            else:\n",
    "                pred_ratings.append(0)\n",
    "        \n",
    "        mse = mean_squared_error(self.test_data['Rating'], pred_ratings)\n",
    "        rmse = sqrt(mse)\n",
    "        return rmse\n",
    "        "
   ]
  },
  {
   "cell_type": "code",
   "execution_count": 211,
   "id": "78acff10",
   "metadata": {},
   "outputs": [],
   "source": [
    "pr = popularity_based_recommender_model(train_data=train_data, test_data=test_data, user_id='userId', item_id='productId')"
   ]
  },
  {
   "cell_type": "code",
   "execution_count": 212,
   "id": "b78b8e12",
   "metadata": {},
   "outputs": [],
   "source": [
    "pr.fit()"
   ]
  },
  {
   "cell_type": "code",
   "execution_count": 205,
   "id": "bb62fc7b",
   "metadata": {},
   "outputs": [
    {
     "data": {
      "text/plain": [
       "4.671668391605663"
      ]
     },
     "execution_count": 205,
     "metadata": {},
     "output_type": "execute_result"
    }
   ],
   "source": [
    "pr.predict_evaluate()"
   ]
  },
  {
   "cell_type": "code",
   "execution_count": 213,
   "id": "fe0801e3",
   "metadata": {},
   "outputs": [
    {
     "data": {
      "text/html": [
       "<div>\n",
       "<style scoped>\n",
       "    .dataframe tbody tr th:only-of-type {\n",
       "        vertical-align: middle;\n",
       "    }\n",
       "\n",
       "    .dataframe tbody tr th {\n",
       "        vertical-align: top;\n",
       "    }\n",
       "\n",
       "    .dataframe thead th {\n",
       "        text-align: right;\n",
       "    }\n",
       "</style>\n",
       "<table border=\"1\" class=\"dataframe\">\n",
       "  <thead>\n",
       "    <tr style=\"text-align: right;\">\n",
       "      <th></th>\n",
       "      <th>user_id</th>\n",
       "      <th>productId</th>\n",
       "      <th>score</th>\n",
       "      <th>Rank</th>\n",
       "    </tr>\n",
       "  </thead>\n",
       "  <tbody>\n",
       "    <tr>\n",
       "      <th>30</th>\n",
       "      <td>10701688</td>\n",
       "      <td>299461</td>\n",
       "      <td>1637</td>\n",
       "      <td>1.0</td>\n",
       "    </tr>\n",
       "    <tr>\n",
       "      <th>2869</th>\n",
       "      <td>10701688</td>\n",
       "      <td>54017350</td>\n",
       "      <td>1000</td>\n",
       "      <td>2.0</td>\n",
       "    </tr>\n",
       "    <tr>\n",
       "      <th>155</th>\n",
       "      <td>10701688</td>\n",
       "      <td>487511</td>\n",
       "      <td>918</td>\n",
       "      <td>3.0</td>\n",
       "    </tr>\n",
       "    <tr>\n",
       "      <th>64</th>\n",
       "      <td>10701688</td>\n",
       "      <td>405243</td>\n",
       "      <td>822</td>\n",
       "      <td>4.0</td>\n",
       "    </tr>\n",
       "    <tr>\n",
       "      <th>2315</th>\n",
       "      <td>10701688</td>\n",
       "      <td>43107185</td>\n",
       "      <td>798</td>\n",
       "      <td>5.0</td>\n",
       "    </tr>\n",
       "  </tbody>\n",
       "</table>\n",
       "</div>"
      ],
      "text/plain": [
       "       user_id  productId  score  Rank\n",
       "30    10701688     299461   1637   1.0\n",
       "2869  10701688   54017350   1000   2.0\n",
       "155   10701688     487511    918   3.0\n",
       "64    10701688     405243    822   4.0\n",
       "2315  10701688   43107185    798   5.0"
      ]
     },
     "execution_count": 213,
     "metadata": {},
     "output_type": "execute_result"
    }
   ],
   "source": [
    "result_pop_user1 = pr.recommend('10701688')\n",
    "result_pop_user1"
   ]
  },
  {
   "cell_type": "code",
   "execution_count": 226,
   "id": "6df1cef1",
   "metadata": {},
   "outputs": [
    {
     "data": {
      "text/html": [
       "<style>#sk-container-id-8 {color: black;background-color: white;}#sk-container-id-8 pre{padding: 0;}#sk-container-id-8 div.sk-toggleable {background-color: white;}#sk-container-id-8 label.sk-toggleable__label {cursor: pointer;display: block;width: 100%;margin-bottom: 0;padding: 0.3em;box-sizing: border-box;text-align: center;}#sk-container-id-8 label.sk-toggleable__label-arrow:before {content: \"▸\";float: left;margin-right: 0.25em;color: #696969;}#sk-container-id-8 label.sk-toggleable__label-arrow:hover:before {color: black;}#sk-container-id-8 div.sk-estimator:hover label.sk-toggleable__label-arrow:before {color: black;}#sk-container-id-8 div.sk-toggleable__content {max-height: 0;max-width: 0;overflow: hidden;text-align: left;background-color: #f0f8ff;}#sk-container-id-8 div.sk-toggleable__content pre {margin: 0.2em;color: black;border-radius: 0.25em;background-color: #f0f8ff;}#sk-container-id-8 input.sk-toggleable__control:checked~div.sk-toggleable__content {max-height: 200px;max-width: 100%;overflow: auto;}#sk-container-id-8 input.sk-toggleable__control:checked~label.sk-toggleable__label-arrow:before {content: \"▾\";}#sk-container-id-8 div.sk-estimator input.sk-toggleable__control:checked~label.sk-toggleable__label {background-color: #d4ebff;}#sk-container-id-8 div.sk-label input.sk-toggleable__control:checked~label.sk-toggleable__label {background-color: #d4ebff;}#sk-container-id-8 input.sk-hidden--visually {border: 0;clip: rect(1px 1px 1px 1px);clip: rect(1px, 1px, 1px, 1px);height: 1px;margin: -1px;overflow: hidden;padding: 0;position: absolute;width: 1px;}#sk-container-id-8 div.sk-estimator {font-family: monospace;background-color: #f0f8ff;border: 1px dotted black;border-radius: 0.25em;box-sizing: border-box;margin-bottom: 0.5em;}#sk-container-id-8 div.sk-estimator:hover {background-color: #d4ebff;}#sk-container-id-8 div.sk-parallel-item::after {content: \"\";width: 100%;border-bottom: 1px solid gray;flex-grow: 1;}#sk-container-id-8 div.sk-label:hover label.sk-toggleable__label {background-color: #d4ebff;}#sk-container-id-8 div.sk-serial::before {content: \"\";position: absolute;border-left: 1px solid gray;box-sizing: border-box;top: 0;bottom: 0;left: 50%;z-index: 0;}#sk-container-id-8 div.sk-serial {display: flex;flex-direction: column;align-items: center;background-color: white;padding-right: 0.2em;padding-left: 0.2em;position: relative;}#sk-container-id-8 div.sk-item {position: relative;z-index: 1;}#sk-container-id-8 div.sk-parallel {display: flex;align-items: stretch;justify-content: center;background-color: white;position: relative;}#sk-container-id-8 div.sk-item::before, #sk-container-id-8 div.sk-parallel-item::before {content: \"\";position: absolute;border-left: 1px solid gray;box-sizing: border-box;top: 0;bottom: 0;left: 50%;z-index: -1;}#sk-container-id-8 div.sk-parallel-item {display: flex;flex-direction: column;z-index: 1;position: relative;background-color: white;}#sk-container-id-8 div.sk-parallel-item:first-child::after {align-self: flex-end;width: 50%;}#sk-container-id-8 div.sk-parallel-item:last-child::after {align-self: flex-start;width: 50%;}#sk-container-id-8 div.sk-parallel-item:only-child::after {width: 0;}#sk-container-id-8 div.sk-dashed-wrapped {border: 1px dashed gray;margin: 0 0.4em 0.5em 0.4em;box-sizing: border-box;padding-bottom: 0.4em;background-color: white;}#sk-container-id-8 div.sk-label label {font-family: monospace;font-weight: bold;display: inline-block;line-height: 1.2em;}#sk-container-id-8 div.sk-label-container {text-align: center;}#sk-container-id-8 div.sk-container {/* jupyter's `normalize.less` sets `[hidden] { display: none; }` but bootstrap.min.css set `[hidden] { display: none !important; }` so we also need the `!important` here to be able to override the default hidden behavior on the sphinx rendered scikit-learn.org. See: https://github.com/scikit-learn/scikit-learn/issues/21755 */display: inline-block !important;position: relative;}#sk-container-id-8 div.sk-text-repr-fallback {display: none;}</style><div id=\"sk-container-id-8\" class=\"sk-top-container\"><div class=\"sk-text-repr-fallback\"><pre>NearestNeighbors(algorithm=&#x27;brute&#x27;, metric=&#x27;cosine&#x27;)</pre><b>In a Jupyter environment, please rerun this cell to show the HTML representation or trust the notebook. <br />On GitHub, the HTML representation is unable to render, please try loading this page with nbviewer.org.</b></div><div class=\"sk-container\" hidden><div class=\"sk-item\"><div class=\"sk-estimator sk-toggleable\"><input class=\"sk-toggleable__control sk-hidden--visually\" id=\"sk-estimator-id-8\" type=\"checkbox\" checked><label for=\"sk-estimator-id-8\" class=\"sk-toggleable__label sk-toggleable__label-arrow\">NearestNeighbors</label><div class=\"sk-toggleable__content\"><pre>NearestNeighbors(algorithm=&#x27;brute&#x27;, metric=&#x27;cosine&#x27;)</pre></div></div></div></div></div>"
      ],
      "text/plain": [
       "NearestNeighbors(algorithm='brute', metric='cosine')"
      ]
     },
     "execution_count": 226,
     "metadata": {},
     "output_type": "execute_result"
    }
   ],
   "source": [
    "import pandas as pd\n",
    "from sklearn.neighbors import NearestNeighbors\n",
    "import pandas as pd\n",
    "import scipy.sparse as sparse\n",
    "from sklearn.metrics.pairwise import cosine_similarity\n",
    "import operator\n",
    "%matplotlib inline\n",
    "\n",
    "\n",
    "sparse_matrix = sparse.coo_matrix((df2['Rating'].values,(df2['userId'].values,df2['productId'].values)))\n",
    "# Convert the sparse matrix to compressed sparse row (CSR) format\n",
    "csr_matrix = sparse_matrix.tocsr()\n",
    "k = 5\n",
    "model = NearestNeighbors(metric='cosine', algorithm='brute', n_neighbors=k)\n",
    "model.fit(csr_matrix)"
   ]
  },
  {
   "cell_type": "code",
   "execution_count": 20,
   "id": "fc76b2dc",
   "metadata": {},
   "outputs": [
    {
     "name": "stdout",
     "output_type": "stream",
     "text": [
      "The k most similar users to user 709310 have rated 3 unique products.\n",
      "Product IDs:\n",
      "[ 2927891 10001012 14868418]\n"
     ]
    }
   ],
   "source": [
    "import pandas as pd\n",
    "from sklearn.neighbors import NearestNeighbors\n",
    "import pandas as pd\n",
    "import scipy.sparse as sparse\n",
    "from sklearn.metrics.pairwise import cosine_similarity\n",
    "import operator\n",
    "%matplotlib inline\n",
    "\n",
    "\n",
    "sparse_matrix = sparse.coo_matrix((df2['Rating'].values,(df2['userId'].values,df2['productId'].values)))\n",
    "# Convert the sparse matrix to compressed sparse row (CSR) format\n",
    "csr_matrix = sparse_matrix.tocsr()\n",
    "k = 5\n",
    "model = NearestNeighbors(metric='cosine', algorithm='brute', n_neighbors=k)\n",
    "model.fit(csr_matrix)\n",
    "user_id = 709310\n",
    "distances, indices = model.kneighbors(csr_matrix.getrow(user_id), n_neighbors=k+1)\n",
    "\n",
    "# Find the indices of the k most similar users to user_id\n",
    "distances, indices = model.kneighbors(csr_matrix.getrow(user_id), n_neighbors=k+1)\n",
    "\n",
    "# Get the indices of the products that the k most similar users have rated\n",
    "product_indices = csr_matrix[indices.flatten()[1:], :].nonzero()[1]\n",
    "\n",
    "# Get the unique product IDs from the product_indices\n",
    "product_ids = np.unique(product_indices)\n",
    "\n",
    "print(f\"The k most similar users to user {user_id} have rated {len(product_ids)} unique products.\")\n",
    "print(\"Product IDs:\")\n",
    "print(product_ids)\n"
   ]
  }
 ],
 "metadata": {
  "kernelspec": {
   "display_name": "base",
   "language": "python",
   "name": "python3"
  },
  "language_info": {
   "codemirror_mode": {
    "name": "ipython",
    "version": 3
   },
   "file_extension": ".py",
   "mimetype": "text/x-python",
   "name": "python",
   "nbconvert_exporter": "python",
   "pygments_lexer": "ipython3",
   "version": "3.9.7"
  },
  "vscode": {
   "interpreter": {
    "hash": "631af202ec7c40e141c49d63cac6c8cb664469fed6e4d5ddc6436b49edc60500"
   }
  }
 },
 "nbformat": 4,
 "nbformat_minor": 5
}
